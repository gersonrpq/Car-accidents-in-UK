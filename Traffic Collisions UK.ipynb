{
 "cells": [
  {
   "cell_type": "code",
   "execution_count": 1,
   "metadata": {},
   "outputs": [],
   "source": [
    "%matplotlib inline\n",
    "import pandas as pd \n",
    "from matplotlib import pyplot as plt\n",
    "import numpy as np"
   ]
  },
  {
   "cell_type": "code",
   "execution_count": 2,
   "metadata": {},
   "outputs": [],
   "source": [
    "data = pd.read_csv('./dftRoadSafetyData_Vehicles_2018.csv',low_memory=False) # Remember to write you path\n",
    "url = \"http://data.dft.gov.uk/road-accidents-safety-data/dftRoadSafetyData_Vehicles_2018.csv\""
   ]
  },
  {
   "cell_type": "code",
   "execution_count": 4,
   "metadata": {
    "scrolled": true
   },
   "outputs": [
    {
     "data": {
      "text/html": [
       "<div>\n",
       "<style scoped>\n",
       "    .dataframe tbody tr th:only-of-type {\n",
       "        vertical-align: middle;\n",
       "    }\n",
       "\n",
       "    .dataframe tbody tr th {\n",
       "        vertical-align: top;\n",
       "    }\n",
       "\n",
       "    .dataframe thead th {\n",
       "        text-align: right;\n",
       "    }\n",
       "</style>\n",
       "<table border=\"1\" class=\"dataframe\">\n",
       "  <thead>\n",
       "    <tr style=\"text-align: right;\">\n",
       "      <th></th>\n",
       "      <th>Accident_Index</th>\n",
       "      <th>Location_Easting_OSGR</th>\n",
       "      <th>Location_Northing_OSGR</th>\n",
       "      <th>Longitude</th>\n",
       "      <th>Latitude</th>\n",
       "      <th>Police_Force</th>\n",
       "      <th>Accident_Severity</th>\n",
       "      <th>Number_of_Vehicles</th>\n",
       "      <th>Number_of_Casualties</th>\n",
       "      <th>Date</th>\n",
       "      <th>...</th>\n",
       "      <th>Pedestrian_Crossing-Human_Control</th>\n",
       "      <th>Pedestrian_Crossing-Physical_Facilities</th>\n",
       "      <th>Light_Conditions</th>\n",
       "      <th>Weather_Conditions</th>\n",
       "      <th>Road_Surface_Conditions</th>\n",
       "      <th>Special_Conditions_at_Site</th>\n",
       "      <th>Carriageway_Hazards</th>\n",
       "      <th>Urban_or_Rural_Area</th>\n",
       "      <th>Did_Police_Officer_Attend_Scene_of_Accident</th>\n",
       "      <th>LSOA_of_Accident_Location</th>\n",
       "    </tr>\n",
       "  </thead>\n",
       "  <tbody>\n",
       "    <tr>\n",
       "      <th>0</th>\n",
       "      <td>2018010080971</td>\n",
       "      <td>529150.0</td>\n",
       "      <td>182270.0</td>\n",
       "      <td>-0.139737</td>\n",
       "      <td>51.524587</td>\n",
       "      <td>1</td>\n",
       "      <td>3</td>\n",
       "      <td>2</td>\n",
       "      <td>2</td>\n",
       "      <td>01/01/2018</td>\n",
       "      <td>...</td>\n",
       "      <td>0</td>\n",
       "      <td>0</td>\n",
       "      <td>4</td>\n",
       "      <td>1</td>\n",
       "      <td>1</td>\n",
       "      <td>0</td>\n",
       "      <td>0</td>\n",
       "      <td>1</td>\n",
       "      <td>1</td>\n",
       "      <td>E01000854</td>\n",
       "    </tr>\n",
       "    <tr>\n",
       "      <th>1</th>\n",
       "      <td>2018010080973</td>\n",
       "      <td>542020.0</td>\n",
       "      <td>184290.0</td>\n",
       "      <td>0.046471</td>\n",
       "      <td>51.539651</td>\n",
       "      <td>1</td>\n",
       "      <td>3</td>\n",
       "      <td>1</td>\n",
       "      <td>1</td>\n",
       "      <td>01/01/2018</td>\n",
       "      <td>...</td>\n",
       "      <td>0</td>\n",
       "      <td>0</td>\n",
       "      <td>4</td>\n",
       "      <td>1</td>\n",
       "      <td>1</td>\n",
       "      <td>0</td>\n",
       "      <td>0</td>\n",
       "      <td>1</td>\n",
       "      <td>1</td>\n",
       "      <td>E01003531</td>\n",
       "    </tr>\n",
       "    <tr>\n",
       "      <th>2</th>\n",
       "      <td>2018010080974</td>\n",
       "      <td>531720.0</td>\n",
       "      <td>182910.0</td>\n",
       "      <td>-0.102474</td>\n",
       "      <td>51.529746</td>\n",
       "      <td>1</td>\n",
       "      <td>3</td>\n",
       "      <td>2</td>\n",
       "      <td>1</td>\n",
       "      <td>01/01/2018</td>\n",
       "      <td>...</td>\n",
       "      <td>0</td>\n",
       "      <td>5</td>\n",
       "      <td>4</td>\n",
       "      <td>1</td>\n",
       "      <td>1</td>\n",
       "      <td>0</td>\n",
       "      <td>0</td>\n",
       "      <td>1</td>\n",
       "      <td>1</td>\n",
       "      <td>E01002723</td>\n",
       "    </tr>\n",
       "    <tr>\n",
       "      <th>3</th>\n",
       "      <td>2018010080981</td>\n",
       "      <td>541450.0</td>\n",
       "      <td>183220.0</td>\n",
       "      <td>0.037828</td>\n",
       "      <td>51.530179</td>\n",
       "      <td>1</td>\n",
       "      <td>2</td>\n",
       "      <td>2</td>\n",
       "      <td>1</td>\n",
       "      <td>01/01/2018</td>\n",
       "      <td>...</td>\n",
       "      <td>0</td>\n",
       "      <td>5</td>\n",
       "      <td>4</td>\n",
       "      <td>2</td>\n",
       "      <td>2</td>\n",
       "      <td>0</td>\n",
       "      <td>0</td>\n",
       "      <td>1</td>\n",
       "      <td>1</td>\n",
       "      <td>E01003492</td>\n",
       "    </tr>\n",
       "    <tr>\n",
       "      <th>4</th>\n",
       "      <td>2018010080982</td>\n",
       "      <td>543580.0</td>\n",
       "      <td>176500.0</td>\n",
       "      <td>0.065781</td>\n",
       "      <td>51.469258</td>\n",
       "      <td>1</td>\n",
       "      <td>2</td>\n",
       "      <td>2</td>\n",
       "      <td>2</td>\n",
       "      <td>01/01/2018</td>\n",
       "      <td>...</td>\n",
       "      <td>0</td>\n",
       "      <td>0</td>\n",
       "      <td>4</td>\n",
       "      <td>1</td>\n",
       "      <td>2</td>\n",
       "      <td>0</td>\n",
       "      <td>0</td>\n",
       "      <td>1</td>\n",
       "      <td>1</td>\n",
       "      <td>E01001682</td>\n",
       "    </tr>\n",
       "  </tbody>\n",
       "</table>\n",
       "<p>5 rows × 32 columns</p>\n",
       "</div>"
      ],
      "text/plain": [
       "  Accident_Index  Location_Easting_OSGR  Location_Northing_OSGR  Longitude  \\\n",
       "0  2018010080971               529150.0                182270.0  -0.139737   \n",
       "1  2018010080973               542020.0                184290.0   0.046471   \n",
       "2  2018010080974               531720.0                182910.0  -0.102474   \n",
       "3  2018010080981               541450.0                183220.0   0.037828   \n",
       "4  2018010080982               543580.0                176500.0   0.065781   \n",
       "\n",
       "    Latitude  Police_Force  Accident_Severity  Number_of_Vehicles  \\\n",
       "0  51.524587             1                  3                   2   \n",
       "1  51.539651             1                  3                   1   \n",
       "2  51.529746             1                  3                   2   \n",
       "3  51.530179             1                  2                   2   \n",
       "4  51.469258             1                  2                   2   \n",
       "\n",
       "   Number_of_Casualties        Date  ...  Pedestrian_Crossing-Human_Control  \\\n",
       "0                     2  01/01/2018  ...                                  0   \n",
       "1                     1  01/01/2018  ...                                  0   \n",
       "2                     1  01/01/2018  ...                                  0   \n",
       "3                     1  01/01/2018  ...                                  0   \n",
       "4                     2  01/01/2018  ...                                  0   \n",
       "\n",
       "  Pedestrian_Crossing-Physical_Facilities  Light_Conditions  \\\n",
       "0                                       0                 4   \n",
       "1                                       0                 4   \n",
       "2                                       5                 4   \n",
       "3                                       5                 4   \n",
       "4                                       0                 4   \n",
       "\n",
       "  Weather_Conditions  Road_Surface_Conditions  Special_Conditions_at_Site  \\\n",
       "0                  1                        1                           0   \n",
       "1                  1                        1                           0   \n",
       "2                  1                        1                           0   \n",
       "3                  2                        2                           0   \n",
       "4                  1                        2                           0   \n",
       "\n",
       "   Carriageway_Hazards  Urban_or_Rural_Area  \\\n",
       "0                    0                    1   \n",
       "1                    0                    1   \n",
       "2                    0                    1   \n",
       "3                    0                    1   \n",
       "4                    0                    1   \n",
       "\n",
       "   Did_Police_Officer_Attend_Scene_of_Accident  LSOA_of_Accident_Location  \n",
       "0                                            1                  E01000854  \n",
       "1                                            1                  E01003531  \n",
       "2                                            1                  E01002723  \n",
       "3                                            1                  E01003492  \n",
       "4                                            1                  E01001682  \n",
       "\n",
       "[5 rows x 32 columns]"
      ]
     },
     "execution_count": 4,
     "metadata": {},
     "output_type": "execute_result"
    }
   ],
   "source": [
    "data.head()"
   ]
  },
  {
   "cell_type": "code",
   "execution_count": 5,
   "metadata": {},
   "outputs": [
    {
     "data": {
      "text/plain": [
       "Index(['Accident_Index', 'Location_Easting_OSGR', 'Location_Northing_OSGR',\n",
       "       'Longitude', 'Latitude', 'Police_Force', 'Accident_Severity',\n",
       "       'Number_of_Vehicles', 'Number_of_Casualties', 'Date', 'Day_of_Week',\n",
       "       'Time', 'Local_Authority_(District)', 'Local_Authority_(Highway)',\n",
       "       '1st_Road_Class', '1st_Road_Number', 'Road_Type', 'Speed_limit',\n",
       "       'Junction_Detail', 'Junction_Control', '2nd_Road_Class',\n",
       "       '2nd_Road_Number', 'Pedestrian_Crossing-Human_Control',\n",
       "       'Pedestrian_Crossing-Physical_Facilities', 'Light_Conditions',\n",
       "       'Weather_Conditions', 'Road_Surface_Conditions',\n",
       "       'Special_Conditions_at_Site', 'Carriageway_Hazards',\n",
       "       'Urban_or_Rural_Area', 'Did_Police_Officer_Attend_Scene_of_Accident',\n",
       "       'LSOA_of_Accident_Location'],\n",
       "      dtype='object')"
      ]
     },
     "execution_count": 5,
     "metadata": {},
     "output_type": "execute_result"
    }
   ],
   "source": [
    "data.columns"
   ]
  },
  {
   "cell_type": "code",
   "execution_count": 6,
   "metadata": {},
   "outputs": [
    {
     "data": {
      "text/plain": [
       "Accident_Index                                 False\n",
       "Location_Easting_OSGR                          False\n",
       "Location_Northing_OSGR                         False\n",
       "Longitude                                      False\n",
       "Latitude                                       False\n",
       "Police_Force                                    True\n",
       "Accident_Severity                               True\n",
       "Number_of_Vehicles                              True\n",
       "Number_of_Casualties                            True\n",
       "Date                                           False\n",
       "Day_of_Week                                     True\n",
       "Time                                           False\n",
       "Local_Authority_(District)                      True\n",
       "Local_Authority_(Highway)                      False\n",
       "1st_Road_Class                                  True\n",
       "1st_Road_Number                                 True\n",
       "Road_Type                                       True\n",
       "Speed_limit                                     True\n",
       "Junction_Detail                                 True\n",
       "Junction_Control                                True\n",
       "2nd_Road_Class                                  True\n",
       "2nd_Road_Number                                 True\n",
       "Pedestrian_Crossing-Human_Control               True\n",
       "Pedestrian_Crossing-Physical_Facilities         True\n",
       "Light_Conditions                                True\n",
       "Weather_Conditions                              True\n",
       "Road_Surface_Conditions                         True\n",
       "Special_Conditions_at_Site                      True\n",
       "Carriageway_Hazards                             True\n",
       "Urban_or_Rural_Area                             True\n",
       "Did_Police_Officer_Attend_Scene_of_Accident     True\n",
       "LSOA_of_Accident_Location                      False\n",
       "dtype: bool"
      ]
     },
     "execution_count": 6,
     "metadata": {},
     "output_type": "execute_result"
    }
   ],
   "source": [
    "data.dtypes == int #Columns that are filled by numbers"
   ]
  },
  {
   "cell_type": "code",
   "execution_count": 7,
   "metadata": {},
   "outputs": [],
   "source": [
    "ints = data.dtypes == int"
   ]
  },
  {
   "cell_type": "code",
   "execution_count": 8,
   "metadata": {},
   "outputs": [
    {
     "data": {
      "text/plain": [
       "['Police_Force',\n",
       " 'Accident_Severity',\n",
       " 'Number_of_Vehicles',\n",
       " 'Number_of_Casualties',\n",
       " 'Day_of_Week',\n",
       " 'Local_Authority_(District)',\n",
       " '1st_Road_Class',\n",
       " '1st_Road_Number',\n",
       " 'Road_Type',\n",
       " 'Speed_limit',\n",
       " 'Junction_Detail',\n",
       " 'Junction_Control',\n",
       " '2nd_Road_Class',\n",
       " '2nd_Road_Number',\n",
       " 'Pedestrian_Crossing-Human_Control',\n",
       " 'Pedestrian_Crossing-Physical_Facilities',\n",
       " 'Light_Conditions',\n",
       " 'Weather_Conditions',\n",
       " 'Road_Surface_Conditions',\n",
       " 'Special_Conditions_at_Site',\n",
       " 'Carriageway_Hazards',\n",
       " 'Urban_or_Rural_Area',\n",
       " 'Did_Police_Officer_Attend_Scene_of_Accident']"
      ]
     },
     "execution_count": 8,
     "metadata": {},
     "output_type": "execute_result"
    }
   ],
   "source": [
    "num_cols = [i for i in ints.index if ints[i]]\n",
    "num_cols"
   ]
  },
  {
   "cell_type": "code",
   "execution_count": 9,
   "metadata": {},
   "outputs": [],
   "source": [
    "data_v2 = data[num_cols] # new data set with only numbers"
   ]
  },
  {
   "cell_type": "code",
   "execution_count": 10,
   "metadata": {},
   "outputs": [
    {
     "data": {
      "text/html": [
       "<div>\n",
       "<style scoped>\n",
       "    .dataframe tbody tr th:only-of-type {\n",
       "        vertical-align: middle;\n",
       "    }\n",
       "\n",
       "    .dataframe tbody tr th {\n",
       "        vertical-align: top;\n",
       "    }\n",
       "\n",
       "    .dataframe thead th {\n",
       "        text-align: right;\n",
       "    }\n",
       "</style>\n",
       "<table border=\"1\" class=\"dataframe\">\n",
       "  <thead>\n",
       "    <tr style=\"text-align: right;\">\n",
       "      <th></th>\n",
       "      <th>Police_Force</th>\n",
       "      <th>Accident_Severity</th>\n",
       "      <th>Number_of_Vehicles</th>\n",
       "      <th>Number_of_Casualties</th>\n",
       "      <th>Day_of_Week</th>\n",
       "      <th>Local_Authority_(District)</th>\n",
       "      <th>1st_Road_Class</th>\n",
       "      <th>1st_Road_Number</th>\n",
       "      <th>Road_Type</th>\n",
       "      <th>Speed_limit</th>\n",
       "      <th>...</th>\n",
       "      <th>2nd_Road_Number</th>\n",
       "      <th>Pedestrian_Crossing-Human_Control</th>\n",
       "      <th>Pedestrian_Crossing-Physical_Facilities</th>\n",
       "      <th>Light_Conditions</th>\n",
       "      <th>Weather_Conditions</th>\n",
       "      <th>Road_Surface_Conditions</th>\n",
       "      <th>Special_Conditions_at_Site</th>\n",
       "      <th>Carriageway_Hazards</th>\n",
       "      <th>Urban_or_Rural_Area</th>\n",
       "      <th>Did_Police_Officer_Attend_Scene_of_Accident</th>\n",
       "    </tr>\n",
       "  </thead>\n",
       "  <tbody>\n",
       "    <tr>\n",
       "      <th>0</th>\n",
       "      <td>1</td>\n",
       "      <td>3</td>\n",
       "      <td>2</td>\n",
       "      <td>2</td>\n",
       "      <td>2</td>\n",
       "      <td>2</td>\n",
       "      <td>3</td>\n",
       "      <td>501</td>\n",
       "      <td>3</td>\n",
       "      <td>30</td>\n",
       "      <td>...</td>\n",
       "      <td>0</td>\n",
       "      <td>0</td>\n",
       "      <td>0</td>\n",
       "      <td>4</td>\n",
       "      <td>1</td>\n",
       "      <td>1</td>\n",
       "      <td>0</td>\n",
       "      <td>0</td>\n",
       "      <td>1</td>\n",
       "      <td>1</td>\n",
       "    </tr>\n",
       "    <tr>\n",
       "      <th>1</th>\n",
       "      <td>1</td>\n",
       "      <td>3</td>\n",
       "      <td>1</td>\n",
       "      <td>1</td>\n",
       "      <td>2</td>\n",
       "      <td>17</td>\n",
       "      <td>4</td>\n",
       "      <td>165</td>\n",
       "      <td>6</td>\n",
       "      <td>30</td>\n",
       "      <td>...</td>\n",
       "      <td>0</td>\n",
       "      <td>0</td>\n",
       "      <td>0</td>\n",
       "      <td>4</td>\n",
       "      <td>1</td>\n",
       "      <td>1</td>\n",
       "      <td>0</td>\n",
       "      <td>0</td>\n",
       "      <td>1</td>\n",
       "      <td>1</td>\n",
       "    </tr>\n",
       "    <tr>\n",
       "      <th>2</th>\n",
       "      <td>1</td>\n",
       "      <td>3</td>\n",
       "      <td>2</td>\n",
       "      <td>1</td>\n",
       "      <td>2</td>\n",
       "      <td>3</td>\n",
       "      <td>3</td>\n",
       "      <td>1</td>\n",
       "      <td>6</td>\n",
       "      <td>20</td>\n",
       "      <td>...</td>\n",
       "      <td>0</td>\n",
       "      <td>0</td>\n",
       "      <td>5</td>\n",
       "      <td>4</td>\n",
       "      <td>1</td>\n",
       "      <td>1</td>\n",
       "      <td>0</td>\n",
       "      <td>0</td>\n",
       "      <td>1</td>\n",
       "      <td>1</td>\n",
       "    </tr>\n",
       "    <tr>\n",
       "      <th>3</th>\n",
       "      <td>1</td>\n",
       "      <td>2</td>\n",
       "      <td>2</td>\n",
       "      <td>1</td>\n",
       "      <td>2</td>\n",
       "      <td>17</td>\n",
       "      <td>4</td>\n",
       "      <td>167</td>\n",
       "      <td>3</td>\n",
       "      <td>30</td>\n",
       "      <td>...</td>\n",
       "      <td>124</td>\n",
       "      <td>0</td>\n",
       "      <td>5</td>\n",
       "      <td>4</td>\n",
       "      <td>2</td>\n",
       "      <td>2</td>\n",
       "      <td>0</td>\n",
       "      <td>0</td>\n",
       "      <td>1</td>\n",
       "      <td>1</td>\n",
       "    </tr>\n",
       "    <tr>\n",
       "      <th>4</th>\n",
       "      <td>1</td>\n",
       "      <td>2</td>\n",
       "      <td>2</td>\n",
       "      <td>2</td>\n",
       "      <td>2</td>\n",
       "      <td>6</td>\n",
       "      <td>3</td>\n",
       "      <td>207</td>\n",
       "      <td>6</td>\n",
       "      <td>30</td>\n",
       "      <td>...</td>\n",
       "      <td>0</td>\n",
       "      <td>0</td>\n",
       "      <td>0</td>\n",
       "      <td>4</td>\n",
       "      <td>1</td>\n",
       "      <td>2</td>\n",
       "      <td>0</td>\n",
       "      <td>0</td>\n",
       "      <td>1</td>\n",
       "      <td>1</td>\n",
       "    </tr>\n",
       "  </tbody>\n",
       "</table>\n",
       "<p>5 rows × 23 columns</p>\n",
       "</div>"
      ],
      "text/plain": [
       "   Police_Force  Accident_Severity  Number_of_Vehicles  Number_of_Casualties  \\\n",
       "0             1                  3                   2                     2   \n",
       "1             1                  3                   1                     1   \n",
       "2             1                  3                   2                     1   \n",
       "3             1                  2                   2                     1   \n",
       "4             1                  2                   2                     2   \n",
       "\n",
       "   Day_of_Week  Local_Authority_(District)  1st_Road_Class  1st_Road_Number  \\\n",
       "0            2                           2               3              501   \n",
       "1            2                          17               4              165   \n",
       "2            2                           3               3                1   \n",
       "3            2                          17               4              167   \n",
       "4            2                           6               3              207   \n",
       "\n",
       "   Road_Type  Speed_limit  ...  2nd_Road_Number  \\\n",
       "0          3           30  ...                0   \n",
       "1          6           30  ...                0   \n",
       "2          6           20  ...                0   \n",
       "3          3           30  ...              124   \n",
       "4          6           30  ...                0   \n",
       "\n",
       "   Pedestrian_Crossing-Human_Control  Pedestrian_Crossing-Physical_Facilities  \\\n",
       "0                                  0                                        0   \n",
       "1                                  0                                        0   \n",
       "2                                  0                                        5   \n",
       "3                                  0                                        5   \n",
       "4                                  0                                        0   \n",
       "\n",
       "   Light_Conditions  Weather_Conditions  Road_Surface_Conditions  \\\n",
       "0                 4                   1                        1   \n",
       "1                 4                   1                        1   \n",
       "2                 4                   1                        1   \n",
       "3                 4                   2                        2   \n",
       "4                 4                   1                        2   \n",
       "\n",
       "   Special_Conditions_at_Site  Carriageway_Hazards  Urban_or_Rural_Area  \\\n",
       "0                           0                    0                    1   \n",
       "1                           0                    0                    1   \n",
       "2                           0                    0                    1   \n",
       "3                           0                    0                    1   \n",
       "4                           0                    0                    1   \n",
       "\n",
       "   Did_Police_Officer_Attend_Scene_of_Accident  \n",
       "0                                            1  \n",
       "1                                            1  \n",
       "2                                            1  \n",
       "3                                            1  \n",
       "4                                            1  \n",
       "\n",
       "[5 rows x 23 columns]"
      ]
     },
     "execution_count": 10,
     "metadata": {},
     "output_type": "execute_result"
    }
   ],
   "source": [
    "data_v2.head()"
   ]
  },
  {
   "cell_type": "markdown",
   "metadata": {},
   "source": [
    "# Values"
   ]
  },
  {
   "cell_type": "code",
   "execution_count": 11,
   "metadata": {
    "scrolled": true
   },
   "outputs": [
    {
     "name": "stdout",
     "output_type": "stream",
     "text": [
      "1     25390\n",
      "20     5490\n",
      "46     4403\n",
      "13     4132\n",
      "44     3957\n",
      "47     3859\n",
      "43     3832\n",
      "6      3762\n",
      "50     3448\n",
      "4      3379\n",
      "42     3163\n",
      "45     3113\n",
      "52     2956\n",
      "97     2755\n",
      "14     2469\n",
      "31     2433\n",
      "10     2340\n",
      "16     2305\n",
      "5      2287\n",
      "41     2053\n",
      "7      2029\n",
      "32     1882\n",
      "35     1803\n",
      "22     1788\n",
      "36     1782\n",
      "30     1661\n",
      "12     1620\n",
      "33     1586\n",
      "40     1498\n",
      "95     1471\n",
      "62     1465\n",
      "37     1463\n",
      "21     1417\n",
      "55     1324\n",
      "54     1286\n",
      "3      1244\n",
      "23     1212\n",
      "63     1140\n",
      "34     1041\n",
      "60      985\n",
      "11      951\n",
      "53      778\n",
      "61      624\n",
      "17      608\n",
      "91      438\n",
      "92      422\n",
      "93      405\n",
      "94      328\n",
      "96      328\n",
      "48      272\n",
      "98      258\n",
      "Name: Police_Force, dtype: int64\n",
      "3    97799\n",
      "2    23165\n",
      "1     1671\n",
      "Name: Accident_Severity, dtype: int64\n",
      "2     74120\n",
      "1     35845\n",
      "3      9692\n",
      "4      2179\n",
      "5       526\n",
      "6       146\n",
      "7        75\n",
      "8        24\n",
      "9        15\n",
      "10        6\n",
      "16        3\n",
      "24        1\n",
      "18        1\n",
      "13        1\n",
      "11        1\n",
      "Name: Number_of_Vehicles, dtype: int64\n",
      "1     97143\n",
      "2     17694\n",
      "3      5035\n",
      "4      1738\n",
      "5       596\n",
      "6       253\n",
      "7        91\n",
      "8        40\n",
      "9        15\n",
      "10       15\n",
      "12        5\n",
      "13        3\n",
      "11        2\n",
      "29        1\n",
      "17        1\n",
      "20        1\n",
      "23        1\n",
      "59        1\n",
      "Name: Number_of_Casualties, dtype: int64\n",
      "6    20021\n",
      "5    18656\n",
      "4    18397\n",
      "3    17950\n",
      "2    17740\n",
      "7    16070\n",
      "1    13801\n",
      "Name: Day_of_Week, dtype: int64\n",
      "300    2614\n",
      "204    1548\n",
      "1      1509\n",
      "9      1287\n",
      "596    1177\n",
      "8      1152\n",
      "5      1132\n",
      "102    1005\n",
      "30      994\n",
      "215     985\n",
      "10      982\n",
      "200     975\n",
      "601     947\n",
      "27      944\n",
      "28      929\n",
      "91      917\n",
      "2       911\n",
      "926     907\n",
      "635     892\n",
      "20      891\n",
      "32      891\n",
      "346     891\n",
      "31      856\n",
      "17      855\n",
      "4       854\n",
      "7       836\n",
      "228     817\n",
      "25      785\n",
      "3       769\n",
      "923     768\n",
      "       ... \n",
      "250      97\n",
      "184      96\n",
      "918      95\n",
      "382      95\n",
      "742      91\n",
      "363      91\n",
      "622      90\n",
      "274      89\n",
      "646      87\n",
      "916      83\n",
      "240      78\n",
      "928      78\n",
      "720      77\n",
      "380      77\n",
      "734      77\n",
      "641      75\n",
      "922      70\n",
      "730      69\n",
      "365      68\n",
      "367      67\n",
      "258      61\n",
      "609      59\n",
      "920      58\n",
      "368      49\n",
      "930      49\n",
      "57       40\n",
      "915      35\n",
      "941      23\n",
      "936      14\n",
      "933      14\n",
      "Name: Local_Authority_(District), Length: 380, dtype: int64\n",
      "3    53499\n",
      "6    43355\n",
      "4    14210\n",
      "5     7005\n",
      "1     4225\n",
      "2      341\n",
      "Name: 1st_Road_Class, dtype: int64\n",
      "0       45907\n",
      "1        1330\n",
      "6        1073\n",
      "4        1010\n",
      "5         751\n",
      "25        741\n",
      "3         731\n",
      "23        691\n",
      "40        664\n",
      "2         646\n",
      "38        620\n",
      "10        501\n",
      "27        492\n",
      "13        489\n",
      "259       483\n",
      "11        476\n",
      "41        450\n",
      "406       434\n",
      "12        422\n",
      "30        415\n",
      "20        389\n",
      "61        372\n",
      "62        364\n",
      "47        359\n",
      "34        355\n",
      "24        347\n",
      "57        340\n",
      "205       314\n",
      "404       306\n",
      "46        289\n",
      "        ...  \n",
      "3101        1\n",
      "9112        1\n",
      "4702        1\n",
      "4574        1\n",
      "4446        1\n",
      "8472        1\n",
      "6367        1\n",
      "6239        1\n",
      "6398        1\n",
      "4351        1\n",
      "8505        1\n",
      "3034        1\n",
      "731         1\n",
      "2522        1\n",
      "4441        1\n",
      "8025        1\n",
      "7705        1\n",
      "3099        1\n",
      "7129        1\n",
      "858         1\n",
      "794         1\n",
      "4568        1\n",
      "6489        1\n",
      "829         1\n",
      "4376        1\n",
      "5403        1\n",
      "3352        1\n",
      "793         1\n",
      "4763        1\n",
      "2268        1\n",
      "Name: 1st_Road_Number, Length: 3675, dtype: int64\n",
      "6    88323\n",
      "3    19473\n",
      "1     7573\n",
      "2     3366\n",
      "9     2392\n",
      "7     1508\n",
      "Name: Road_Type, dtype: int64\n",
      "30    73479\n",
      "60    15387\n",
      "20    10661\n",
      "40    10229\n",
      "70     7826\n",
      "50     5053\n",
      "Name: Speed_limit, dtype: int64\n",
      " 0    52076\n",
      " 3    35958\n",
      " 6    11422\n",
      " 1     9974\n",
      " 9     4650\n",
      " 8     2801\n",
      " 5     1798\n",
      " 2     1597\n",
      " 7     1587\n",
      "-1      772\n",
      "Name: Junction_Detail, dtype: int64\n",
      "-1    54842\n",
      " 4    53259\n",
      " 2    13323\n",
      " 3      750\n",
      " 1      461\n",
      "Name: Junction_Control, dtype: int64\n",
      "-1    52211\n",
      " 6    48631\n",
      " 3    12213\n",
      " 4     4662\n",
      " 5     4168\n",
      " 1      677\n",
      " 2       73\n",
      "Name: 2nd_Road_Class, dtype: int64\n",
      " 0       101571\n",
      " 6          282\n",
      " 1          263\n",
      " 4          214\n",
      "-1          204\n",
      " 23         167\n",
      " 2          163\n",
      " 3          155\n",
      " 406        144\n",
      " 5          140\n",
      " 40         140\n",
      " 10         122\n",
      " 12         117\n",
      " 41         115\n",
      " 57         108\n",
      " 11         107\n",
      " 38         106\n",
      " 7201       106\n",
      " 7302       105\n",
      " 205        100\n",
      " 27          99\n",
      " 13          91\n",
      " 404         90\n",
      " 25          87\n",
      " 503         86\n",
      " 24          85\n",
      " 259         85\n",
      " 34          80\n",
      " 308         79\n",
      " 312         78\n",
      "          ...  \n",
      " 4638         1\n",
      " 860          1\n",
      " 5086         1\n",
      " 9304         1\n",
      " 5278         1\n",
      " 5470         1\n",
      " 987          1\n",
      " 3034         1\n",
      " 7128         1\n",
      " 5017         1\n",
      " 986          1\n",
      " 5144         1\n",
      " 1050         1\n",
      " 3099         1\n",
      " 1370         1\n",
      " 1562         1\n",
      " 3611         1\n",
      " 7417         1\n",
      " 8153         1\n",
      " 6296         1\n",
      " 2202         1\n",
      " 6360         1\n",
      " 4377         1\n",
      " 4569         1\n",
      " 539          1\n",
      " 6808         1\n",
      " 795          1\n",
      " 859          1\n",
      " 7064         1\n",
      " 5341         1\n",
      "Name: 2nd_Road_Number, Length: 3194, dtype: int64\n",
      " 0    117924\n",
      "-1      3173\n",
      " 2      1116\n",
      " 1       422\n",
      "Name: Pedestrian_Crossing-Human_Control, dtype: int64\n",
      " 0    94877\n",
      " 5     9753\n",
      " 4     7169\n",
      " 1     4583\n",
      " 8     3131\n",
      "-1     2850\n",
      " 7      272\n",
      "Name: Pedestrian_Crossing-Physical_Facilities, dtype: int64\n",
      "1    88435\n",
      "4    24746\n",
      "6     6120\n",
      "7     2477\n",
      "5      857\n",
      "Name: Light_Conditions, dtype: int64\n",
      " 1    99221\n",
      " 2    12789\n",
      " 9     3666\n",
      " 8     2603\n",
      " 5     1277\n",
      " 4     1134\n",
      " 3     1075\n",
      " 7      449\n",
      " 6      402\n",
      "-1       19\n",
      "Name: Weather_Conditions, dtype: int64\n",
      " 1    90546\n",
      " 2    28215\n",
      " 4     1417\n",
      "-1     1223\n",
      " 3     1099\n",
      " 5      135\n",
      "Name: Road_Surface_Conditions, dtype: int64\n",
      " 0    118495\n",
      "-1      1524\n",
      " 4      1372\n",
      " 1       284\n",
      " 5       282\n",
      " 7       276\n",
      " 3       183\n",
      " 6       177\n",
      " 2        42\n",
      "Name: Special_Conditions_at_Site, dtype: int64\n",
      " 0    119170\n",
      "-1      1325\n",
      " 2      1072\n",
      " 7       376\n",
      " 1       253\n",
      " 6       239\n",
      " 3       200\n",
      "Name: Carriageway_Hazards, dtype: int64\n",
      " 1    82583\n",
      " 2    39996\n",
      " 3       55\n",
      "-1        1\n",
      "Name: Urban_or_Rural_Area, dtype: int64\n",
      " 1    87529\n",
      " 2    34161\n",
      " 3      943\n",
      "-1        2\n",
      "Name: Did_Police_Officer_Attend_Scene_of_Accident, dtype: int64\n"
     ]
    }
   ],
   "source": [
    "index = ['Police_Force', 'Accident_Severity', 'Number_of_Vehicles',\n",
    "       'Number_of_Casualties', 'Day_of_Week', 'Local_Authority_(District)',\n",
    "       '1st_Road_Class', '1st_Road_Number', 'Road_Type', 'Speed_limit',\n",
    "       'Junction_Detail', 'Junction_Control', '2nd_Road_Class',\n",
    "       '2nd_Road_Number', 'Pedestrian_Crossing-Human_Control',\n",
    "       'Pedestrian_Crossing-Physical_Facilities', 'Light_Conditions',\n",
    "       'Weather_Conditions', 'Road_Surface_Conditions',\n",
    "       'Special_Conditions_at_Site', 'Carriageway_Hazards',\n",
    "       'Urban_or_Rural_Area', 'Did_Police_Officer_Attend_Scene_of_Accident']\n",
    "for i in index:\n",
    "    print(data_v2[i].value_counts())"
   ]
  },
  {
   "cell_type": "markdown",
   "metadata": {},
   "source": [
    "# Graphics "
   ]
  },
  {
   "cell_type": "code",
   "execution_count": 12,
   "metadata": {
    "scrolled": true
   },
   "outputs": [
    {
     "data": {
      "text/plain": [
       "<matplotlib.axes._subplots.AxesSubplot at 0x7f0f95dac5f8>"
      ]
     },
     "execution_count": 12,
     "metadata": {},
     "output_type": "execute_result"
    },
    {
     "data": {
      "image/png": "[encoded data removed]",
      "text/plain": [
       "<Figure size 432x288 with 1 Axes>"
      ]
     },
     "metadata": {
      "needs_background": "light"
     },
     "output_type": "display_data"
    }
   ],
   "source": [
    "data_v2['Police_Force'].hist() # most of police_force are Metropolitan Police"
   ]
  },
  {
   "cell_type": "code",
   "execution_count": 13,
   "metadata": {},
   "outputs": [
    {
     "data": {
      "text/plain": [
       "<matplotlib.axes._subplots.AxesSubplot at 0x7f0f95b33b00>"
      ]
     },
     "execution_count": 13,
     "metadata": {},
     "output_type": "execute_result"
    },
    {
     "data": {
      "image/png": "[encoded data removed]",
      "text/plain": [
       "<Figure size 432x288 with 1 Axes>"
      ]
     },
     "metadata": {
      "needs_background": "light"
     },
     "output_type": "display_data"
    }
   ],
   "source": [
    "data_v2['Accident_Severity'].hist() #most of accidentes severity are slight"
   ]
  },
  {
   "cell_type": "code",
   "execution_count": 14,
   "metadata": {
    "scrolled": true
   },
   "outputs": [
    {
     "data": {
      "text/plain": [
       "True     119657\n",
       "False      2978\n",
       "Name: Number_of_Vehicles, dtype: int64"
      ]
     },
     "execution_count": 14,
     "metadata": {},
     "output_type": "execute_result"
    }
   ],
   "source": [
    "(data_v2['Number_of_Vehicles'] <= 3).value_counts()"
   ]
  },
  {
   "cell_type": "code",
   "execution_count": 15,
   "metadata": {},
   "outputs": [
    {
     "data": {
      "text/plain": [
       "<matplotlib.axes._subplots.AxesSubplot at 0x7f0f95a4d1d0>"
      ]
     },
     "execution_count": 15,
     "metadata": {},
     "output_type": "execute_result"
    },
    {
     "data": {
      "image/png": "[encoded data removed]",
      "text/plain": [
       "<Figure size 432x288 with 1 Axes>"
      ]
     },
     "metadata": {
      "needs_background": "light"
     },
     "output_type": "display_data"
    }
   ],
   "source": [
    "data_v2['Number_of_Vehicles'].hist() # most of number of vehicles in accidents are 2"
   ]
  },
  {
   "cell_type": "code",
   "execution_count": 16,
   "metadata": {},
   "outputs": [
    {
     "data": {
      "text/plain": [
       "False    122634\n",
       "True          1\n",
       "Name: Number_of_Vehicles, dtype: int64"
      ]
     },
     "execution_count": 16,
     "metadata": {},
     "output_type": "execute_result"
    }
   ],
   "source": [
    "(data_v2['Number_of_Vehicles'] > 20).value_counts() # only one case had more than 20 vehicles"
   ]
  },
  {
   "cell_type": "code",
   "execution_count": 17,
   "metadata": {},
   "outputs": [
    {
     "data": {
      "text/plain": [
       "<matplotlib.axes._subplots.AxesSubplot at 0x7f0f9595b978>"
      ]
     },
     "execution_count": 17,
     "metadata": {},
     "output_type": "execute_result"
    },
    {
     "data": {
      "image/png": "[encoded data removed]",
      "text/plain": [
       "<Figure size 432x288 with 1 Axes>"
      ]
     },
     "metadata": {
      "needs_background": "light"
     },
     "output_type": "display_data"
    }
   ],
   "source": [
    "data_v2['Number_of_Casualties'].hist() # most of the numeber of casualties are 1"
   ]
  },
  {
   "cell_type": "code",
   "execution_count": 18,
   "metadata": {},
   "outputs": [
    {
     "data": {
      "text/plain": [
       "<matplotlib.axes._subplots.AxesSubplot at 0x7f0f9595b748>"
      ]
     },
     "execution_count": 18,
     "metadata": {},
     "output_type": "execute_result"
    },
    {
     "data": {
      "image/png": "[encoded data removed]",
      "text/plain": [
       "<Figure size 432x288 with 1 Axes>"
      ]
     },
     "metadata": {
      "needs_background": "light"
     },
     "output_type": "display_data"
    }
   ],
   "source": [
    "data_v2['Day_of_Week'].hist() # most of accident occurs on Fridays"
   ]
  },
  {
   "cell_type": "code",
   "execution_count": 19,
   "metadata": {},
   "outputs": [
    {
     "data": {
      "text/plain": [
       "<matplotlib.axes._subplots.AxesSubplot at 0x7f0f9585cd30>"
      ]
     },
     "execution_count": 19,
     "metadata": {},
     "output_type": "execute_result"
    },
    {
     "data": {
      "image/png": "[encoded data removed]",
      "text/plain": [
       "<Figure size 432x288 with 1 Axes>"
      ]
     },
     "metadata": {
      "needs_background": "light"
     },
     "output_type": "display_data"
    }
   ],
   "source": [
    "data_v2['Local_Authority_(District)'].hist() # It can be seen thatthe highest pick is tacken by the locals Authority on 0 - 100  Indexes, but the highest score is for the Birmingham (See values)"
   ]
  },
  {
   "cell_type": "code",
   "execution_count": 20,
   "metadata": {},
   "outputs": [
    {
     "data": {
      "text/plain": [
       "<matplotlib.axes._subplots.AxesSubplot at 0x7f0f955eaef0>"
      ]
     },
     "execution_count": 20,
     "metadata": {},
     "output_type": "execute_result"
    },
    {
     "data": {
      "image/png": "[encoded data removed]",
      "text/plain": [
       "<Figure size 432x288 with 1 Axes>"
      ]
     },
     "metadata": {
      "needs_background": "light"
     },
     "output_type": "display_data"
    }
   ],
   "source": [
    "data_v2['1st_Road_Class'].hist() # the class A (3 in graphic) has more accidents"
   ]
  },
  {
   "cell_type": "code",
   "execution_count": 21,
   "metadata": {},
   "outputs": [
    {
     "data": {
      "text/plain": [
       "<matplotlib.axes._subplots.AxesSubplot at 0x7f0f95561c50>"
      ]
     },
     "execution_count": 21,
     "metadata": {},
     "output_type": "execute_result"
    },
    {
     "data": {
      "image/png": "[encoded data removed]",
      "text/plain": [
       "<Figure size 432x288 with 1 Axes>"
      ]
     },
     "metadata": {
      "needs_background": "light"
     },
     "output_type": "display_data"
    }
   ],
   "source": [
    "data_v2['1st_Road_Number'].hist()"
   ]
  },
  {
   "cell_type": "code",
   "execution_count": 22,
   "metadata": {},
   "outputs": [
    {
     "data": {
      "text/plain": [
       "<matplotlib.axes._subplots.AxesSubplot at 0x7f0f954e59e8>"
      ]
     },
     "execution_count": 22,
     "metadata": {},
     "output_type": "execute_result"
    },
    {
     "data": {
      "image/png": "[encoded data removed]",
      "text/plain": [
       "<Figure size 432x288 with 1 Axes>"
      ]
     },
     "metadata": {
      "needs_background": "light"
     },
     "output_type": "display_data"
    }
   ],
   "source": [
    "data_v2['Road_Type'].hist()# most of the accidents take place at a Single carriageway identified by the number 6"
   ]
  },
  {
   "cell_type": "code",
   "execution_count": 23,
   "metadata": {},
   "outputs": [
    {
     "data": {
      "text/plain": [
       "<matplotlib.axes._subplots.AxesSubplot at 0x7f0f95466208>"
      ]
     },
     "execution_count": 23,
     "metadata": {},
     "output_type": "execute_result"
    },
    {
     "data": {
      "image/png": "[encoded data removed]",
      "text/plain": [
       "<Figure size 432x288 with 1 Axes>"
      ]
     },
     "metadata": {
      "needs_background": "light"
     },
     "output_type": "display_data"
    }
   ],
   "source": [
    "data_v2['Speed_limit'].hist() # most of the accidents occurs in places where the speed limit is 30 mph"
   ]
  },
  {
   "cell_type": "code",
   "execution_count": 24,
   "metadata": {},
   "outputs": [
    {
     "data": {
      "text/plain": [
       "<matplotlib.axes._subplots.AxesSubplot at 0x7f0f954a6048>"
      ]
     },
     "execution_count": 24,
     "metadata": {},
     "output_type": "execute_result"
    },
    {
     "data": {
      "image/png": "[encoded data removed]",
      "text/plain": [
       "<Figure size 432x288 with 1 Axes>"
      ]
     },
     "metadata": {
      "needs_background": "light"
     },
     "output_type": "display_data"
    }
   ],
   "source": [
    "data_v2['Junction_Detail'].hist() # most of accidents occurs in Not at junction or within 20 metres "
   ]
  },
  {
   "cell_type": "code",
   "execution_count": 25,
   "metadata": {},
   "outputs": [
    {
     "data": {
      "text/plain": [
       "<matplotlib.axes._subplots.AxesSubplot at 0x7f0f98de7f60>"
      ]
     },
     "execution_count": 25,
     "metadata": {},
     "output_type": "execute_result"
    },
    {
     "data": {
      "image/png": "[encoded data removed]",
      "text/plain": [
       "<Figure size 432x288 with 1 Axes>"
      ]
     },
     "metadata": {
      "needs_background": "light"
     },
     "output_type": "display_data"
    }
   ],
   "source": [
    "data_v2['Junction_Control'].hist() # most of data is missing or out of range, but the second is Give way or uncontrolled as a junction control"
   ]
  },
  {
   "cell_type": "code",
   "execution_count": 26,
   "metadata": {},
   "outputs": [
    {
     "data": {
      "text/plain": [
       "<matplotlib.axes._subplots.AxesSubplot at 0x7f0f91f86dd8>"
      ]
     },
     "execution_count": 26,
     "metadata": {},
     "output_type": "execute_result"
    },
    {
     "data": {
      "image/png": "[encoded data removed]",
      "text/plain": [
       "<Figure size 432x288 with 1 Axes>"
      ]
     },
     "metadata": {
      "needs_background": "light"
     },
     "output_type": "display_data"
    }
   ],
   "source": [
    "data_v2['2nd_Road_Class'].hist() # most of the accident have missing data , but it can also be seen that the second category with a big amount of accidents is Not classified"
   ]
  },
  {
   "cell_type": "code",
   "execution_count": 27,
   "metadata": {},
   "outputs": [
    {
     "data": {
      "text/plain": [
       "<matplotlib.axes._subplots.AxesSubplot at 0x7f0f91ea4160>"
      ]
     },
     "execution_count": 27,
     "metadata": {},
     "output_type": "execute_result"
    },
    {
     "data": {
      "image/png": "[encoded data removed]",
      "text/plain": [
       "<Figure size 432x288 with 1 Axes>"
      ]
     },
     "metadata": {
      "needs_background": "light"
     },
     "output_type": "display_data"
    }
   ],
   "source": [
    "data_v2['2nd_Road_Number'].hist()"
   ]
  },
  {
   "cell_type": "code",
   "execution_count": 28,
   "metadata": {},
   "outputs": [
    {
     "data": {
      "text/plain": [
       "<matplotlib.axes._subplots.AxesSubplot at 0x7f0f91e31c18>"
      ]
     },
     "execution_count": 28,
     "metadata": {},
     "output_type": "execute_result"
    },
    {
     "data": {
      "image/png": "[encoded data removed]",
      "text/plain": [
       "<Figure size 432x288 with 1 Axes>"
      ]
     },
     "metadata": {
      "needs_background": "light"
     },
     "output_type": "display_data"
    }
   ],
   "source": [
    "data_v2['Pedestrian_Crossing-Human_Control'].hist() # more of accident in this category ar classified with None within 50 metres "
   ]
  },
  {
   "cell_type": "code",
   "execution_count": 29,
   "metadata": {},
   "outputs": [
    {
     "data": {
      "text/plain": [
       "<matplotlib.axes._subplots.AxesSubplot at 0x7f0f91da9f28>"
      ]
     },
     "execution_count": 29,
     "metadata": {},
     "output_type": "execute_result"
    },
    {
     "data": {
      "image/png": "[encoded data removed]",
      "text/plain": [
       "<Figure size 432x288 with 1 Axes>"
      ]
     },
     "metadata": {
      "needs_background": "light"
     },
     "output_type": "display_data"
    }
   ],
   "source": [
    "data_v2['Pedestrian_Crossing-Physical_Facilities'].hist() # most of accidents ar classified with No physical crossing facilities within 50 metres"
   ]
  },
  {
   "cell_type": "code",
   "execution_count": 30,
   "metadata": {},
   "outputs": [
    {
     "data": {
      "text/plain": [
       "<matplotlib.axes._subplots.AxesSubplot at 0x7f0f91dd7080>"
      ]
     },
     "execution_count": 30,
     "metadata": {},
     "output_type": "execute_result"
    },
    {
     "data": {
      "image/png": "[encoded data removed]",
      "text/plain": [
       "<Figure size 432x288 with 1 Axes>"
      ]
     },
     "metadata": {
      "needs_background": "light"
     },
     "output_type": "display_data"
    }
   ],
   "source": [
    "data_v2['Light_Conditions'].hist() # most of accident occur with Daylight (1) "
   ]
  },
  {
   "cell_type": "code",
   "execution_count": 31,
   "metadata": {},
   "outputs": [
    {
     "data": {
      "text/plain": [
       "<matplotlib.axes._subplots.AxesSubplot at 0x7f0f91d08a90>"
      ]
     },
     "execution_count": 31,
     "metadata": {},
     "output_type": "execute_result"
    },
    {
     "data": {
      "image/png": "[encoded data removed]",
      "text/plain": [
       "<Figure size 432x288 with 1 Axes>"
      ]
     },
     "metadata": {
      "needs_background": "light"
     },
     "output_type": "display_data"
    }
   ],
   "source": [
    "data_v2['Weather_Conditions'].hist() # accidents are more likely the weather condition is Raining no high winds"
   ]
  },
  {
   "cell_type": "code",
   "execution_count": 32,
   "metadata": {},
   "outputs": [
    {
     "data": {
      "text/plain": [
       "<matplotlib.axes._subplots.AxesSubplot at 0x7f0f91c7e320>"
      ]
     },
     "execution_count": 32,
     "metadata": {},
     "output_type": "execute_result"
    },
    {
     "data": {
      "image/png": "[encoded data removed]",
      "text/plain": [
       "<Figure size 432x288 with 1 Axes>"
      ]
     },
     "metadata": {
      "needs_background": "light"
     },
     "output_type": "display_data"
    }
   ],
   "source": [
    "data_v2['Road_Surface_Conditions'].hist() # most of accidents occur when the road is Dry"
   ]
  },
  {
   "cell_type": "code",
   "execution_count": 33,
   "metadata": {},
   "outputs": [
    {
     "data": {
      "text/plain": [
       "<matplotlib.axes._subplots.AxesSubplot at 0x7f0f91beebe0>"
      ]
     },
     "execution_count": 33,
     "metadata": {},
     "output_type": "execute_result"
    },
    {
     "data": {
      "image/png": "[encoded data removed]",
      "text/plain": [
       "<Figure size 432x288 with 1 Axes>"
      ]
     },
     "metadata": {
      "needs_background": "light"
     },
     "output_type": "display_data"
    }
   ],
   "source": [
    "data_v2['Special_Conditions_at_Site'].hist() #Accidents are more probable with no special conditions"
   ]
  },
  {
   "cell_type": "code",
   "execution_count": 34,
   "metadata": {
    "scrolled": true
   },
   "outputs": [
    {
     "data": {
      "text/plain": [
       "<matplotlib.axes._subplots.AxesSubplot at 0x7f0f91bee048>"
      ]
     },
     "execution_count": 34,
     "metadata": {},
     "output_type": "execute_result"
    },
    {
     "data": {
      "image/png": "[encoded data removed]",
      "text/plain": [
       "<Figure size 432x288 with 1 Axes>"
      ]
     },
     "metadata": {
      "needs_background": "light"
     },
     "output_type": "display_data"
    }
   ],
   "source": [
    "data_v2['Carriageway_Hazards'].hist() # accidents are relate with no hazards"
   ]
  },
  {
   "cell_type": "code",
   "execution_count": 35,
   "metadata": {},
   "outputs": [
    {
     "data": {
      "text/plain": [
       "<matplotlib.axes._subplots.AxesSubplot at 0x7f0f91b51b00>"
      ]
     },
     "execution_count": 35,
     "metadata": {},
     "output_type": "execute_result"
    },
    {
     "data": {
      "image/png": "[encoded data removed]",
      "text/plain": [
       "<Figure size 432x288 with 1 Axes>"
      ]
     },
     "metadata": {
      "needs_background": "light"
     },
     "output_type": "display_data"
    }
   ],
   "source": [
    "data_v2['Urban_or_Rural_Area'].hist() # accidents happen more in Urban areas"
   ]
  },
  {
   "cell_type": "code",
   "execution_count": 36,
   "metadata": {},
   "outputs": [
    {
     "data": {
      "text/plain": [
       "<matplotlib.axes._subplots.AxesSubplot at 0x7f0f91a8cc88>"
      ]
     },
     "execution_count": 36,
     "metadata": {},
     "output_type": "execute_result"
    },
    {
     "data": {
      "image/png": "[encoded data removed]",
      "text/plain": [
       "<Figure size 432x288 with 1 Axes>"
      ]
     },
     "metadata": {
      "needs_background": "light"
     },
     "output_type": "display_data"
    }
   ],
   "source": [
    "data_v2['Did_Police_Officer_Attend_Scene_of_Accident'].hist() # in most of cases a Police Officer Attend the scene of accidents"
   ]
  },
  {
   "cell_type": "markdown",
   "metadata": {},
   "source": [
    "# Applying ML"
   ]
  },
  {
   "cell_type": "code",
   "execution_count": 37,
   "metadata": {},
   "outputs": [
    {
     "data": {
      "text/plain": [
       "<matplotlib.axes._subplots.AxesSubplot at 0x7f0f917377f0>"
      ]
     },
     "execution_count": 37,
     "metadata": {},
     "output_type": "execute_result"
    },
    {
     "data": {
      "image/png": "[encoded data removed]",
      "text/plain": [
       "<Figure size 432x288 with 2 Axes>"
      ]
     },
     "metadata": {
      "needs_background": "light"
     },
     "output_type": "display_data"
    }
   ],
   "source": [
    "import seaborn as sns\n",
    "%matplotlib inline\n",
    "sns.heatmap(data_v2.corr())\n",
    "#checking correlation"
   ]
  },
  {
   "cell_type": "markdown",
   "metadata": {},
   "source": [
    "##  Unsupervised ML"
   ]
  },
  {
   "cell_type": "code",
   "execution_count": 38,
   "metadata": {},
   "outputs": [],
   "source": [
    "from sklearn.cluster import KMeans"
   ]
  },
  {
   "cell_type": "code",
   "execution_count": 39,
   "metadata": {
    "scrolled": false
   },
   "outputs": [
    {
     "name": "stdout",
     "output_type": "stream",
     "text": [
      "WSS: 506739685521.1137\n",
      "WSS: 207264463339.6509\n",
      "WSS: 106391227506.39244\n",
      "WSS: 75002625074.88983\n",
      "WSS: 55444328372.91162\n",
      "WSS: 45797985498.59824\n",
      "WSS: 38776685577.17873\n",
      "WSS: 32733886988.752853\n",
      "WSS: 28175843229.75139\n"
     ]
    }
   ],
   "source": [
    "WSS = []\n",
    "for i in range(1,10):\n",
    "  model = KMeans(n_clusters = i , max_iter = 1000)\n",
    "  model.fit(data_v2.drop('Accident_Severity',axis=1))\n",
    "  WSS.append(model.inertia_)\n",
    "  print('WSS:',WSS[-1]) "
   ]
  },
  {
   "cell_type": "code",
   "execution_count": 40,
   "metadata": {},
   "outputs": [
    {
     "data": {
      "text/plain": [
       "[<matplotlib.lines.Line2D at 0x7f0f8fc00898>]"
      ]
     },
     "execution_count": 40,
     "metadata": {},
     "output_type": "execute_result"
    },
    {
     "data": {
      "image/png": "[encoded data removed]",
      "text/plain": [
       "<Figure size 432x288 with 1 Axes>"
      ]
     },
     "metadata": {
      "needs_background": "light"
     },
     "output_type": "display_data"
    }
   ],
   "source": [
    "plt.plot(range(1,len(WSS)+1),WSS,'r-')\n",
    "# the best number of cluster is 3, taking Accident Severity as this category\n",
    "#applying Elbow Method"
   ]
  },
  {
   "cell_type": "code",
   "execution_count": 41,
   "metadata": {},
   "outputs": [
    {
     "data": {
      "text/plain": [
       "KMeans(algorithm='auto', copy_x=True, init='k-means++', max_iter=3000,\n",
       "       n_clusters=3, n_init=10, n_jobs=None, precompute_distances='auto',\n",
       "       random_state=None, tol=0.0001, verbose=0)"
      ]
     },
     "execution_count": 41,
     "metadata": {},
     "output_type": "execute_result"
    }
   ],
   "source": [
    "model1 = KMeans(n_clusters = 3 , max_iter = 3000)\n",
    "model1.fit(data_v2.drop('Accident_Severity',axis=1))"
   ]
  },
  {
   "cell_type": "code",
   "execution_count": 42,
   "metadata": {},
   "outputs": [],
   "source": [
    "x = data_v2.drop('Accident_Severity',axis=1)"
   ]
  },
  {
   "cell_type": "code",
   "execution_count": 43,
   "metadata": {},
   "outputs": [],
   "source": [
    "y = model1.predict(x)"
   ]
  },
  {
   "cell_type": "code",
   "execution_count": 44,
   "metadata": {},
   "outputs": [
    {
     "data": {
      "image/png": "[encoded data removed]",
      "text/plain": [
       "<Figure size 432x288 with 1 Axes>"
      ]
     },
     "metadata": {},
     "output_type": "display_data"
    }
   ],
   "source": [
    "plt.figure(facecolor='lightgreen')\n",
    "plt.scatter(x['Police_Force'],x['Local_Authority_(District)'], c=y , s = 30, alpha = 0.1)\n",
    "plt.xlabel('$x$', fontsize = 10)\n",
    "plt.ylabel('$y$', fontsize = 10)\n",
    "plt.show()\n"
   ]
  },
  {
   "cell_type": "code",
   "execution_count": 45,
   "metadata": {},
   "outputs": [
    {
     "data": {
      "text/plain": [
       "1    102597\n",
       "0     14387\n",
       "2      5651\n",
       "dtype: int64"
      ]
     },
     "execution_count": 45,
     "metadata": {},
     "output_type": "execute_result"
    }
   ],
   "source": [
    "predicted = pd.Series(model1.labels_).value_counts()\n",
    "predicted"
   ]
  },
  {
   "cell_type": "code",
   "execution_count": 46,
   "metadata": {
    "scrolled": true
   },
   "outputs": [
    {
     "data": {
      "text/plain": [
       "3    97799\n",
       "2    23165\n",
       "1     1671\n",
       "Name: Accident_Severity, dtype: int64"
      ]
     },
     "execution_count": 46,
     "metadata": {},
     "output_type": "execute_result"
    }
   ],
   "source": [
    "real = data_v2['Accident_Severity'].value_counts()\n",
    "real"
   ]
  },
  {
   "cell_type": "code",
   "execution_count": 59,
   "metadata": {
    "scrolled": true
   },
   "outputs": [
    {
     "name": "stdout",
     "output_type": "stream",
     "text": [
      "85.2892156361517\n",
      "342.89661126699764\n",
      "238.1807301017355\n"
     ]
    }
   ],
   "source": [
    "error = (np.abs((predicted[0]-real[3]))/real[3])*100\n",
    "print(error)\n",
    "error = (np.abs(predicted[1]-real[2])/real[2])*100\n",
    "print(error)\n",
    "error = (np.abs(predicted[2]-real[1])/real[1])*100\n",
    "print(error)\n",
    "    "
   ]
  },
  {
   "cell_type": "markdown",
   "metadata": {},
   "source": [
    "## Supervised ML"
   ]
  },
  {
   "cell_type": "code",
   "execution_count": 48,
   "metadata": {},
   "outputs": [],
   "source": [
    "from sklearn.tree import DecisionTreeClassifier as DTR\n",
    "from sklearn.model_selection import train_test_split\n",
    "from sklearn.model_selection import cross_validate"
   ]
  },
  {
   "cell_type": "code",
   "execution_count": 49,
   "metadata": {},
   "outputs": [],
   "source": [
    "y = data_v2['Accident_Severity']\n",
    "X = data_v2.drop('Accident_Severity',axis=1)"
   ]
  },
  {
   "cell_type": "code",
   "execution_count": 50,
   "metadata": {},
   "outputs": [],
   "source": [
    "X_train, X_test,y_train , y_test = train_test_split(X,y,random_state= 1)"
   ]
  },
  {
   "cell_type": "code",
   "execution_count": 51,
   "metadata": {},
   "outputs": [],
   "source": [
    "model2 = DTR(max_depth = 50)"
   ]
  },
  {
   "cell_type": "code",
   "execution_count": 52,
   "metadata": {},
   "outputs": [
    {
     "data": {
      "text/plain": [
       "{'fit_time': array([1.2704072 , 1.16224265, 0.97961044, 1.0509367 , 0.99855566]),\n",
       " 'score_time': array([0.02078533, 0.01325297, 0.0132668 , 0.01331377, 0.01324487]),\n",
       " 'test_score': array([0.67222917, 0.6795499 , 0.6739875 , 0.66885941, 0.67244754]),\n",
       " 'train_score': array([0.99370744, 0.9937483 , 0.99347658, 0.9930146 , 0.9937077 ])}"
      ]
     },
     "execution_count": 52,
     "metadata": {},
     "output_type": "execute_result"
    }
   ],
   "source": [
    "results = cross_validate(model2,X_train,y_train,return_train_score=True,cv=5)\n",
    "results"
   ]
  },
  {
   "cell_type": "code",
   "execution_count": 53,
   "metadata": {},
   "outputs": [
    {
     "data": {
      "text/plain": [
       "DecisionTreeClassifier(class_weight=None, criterion='gini', max_depth=50,\n",
       "                       max_features=None, max_leaf_nodes=None,\n",
       "                       min_impurity_decrease=0.0, min_impurity_split=None,\n",
       "                       min_samples_leaf=1, min_samples_split=2,\n",
       "                       min_weight_fraction_leaf=0.0, presort=False,\n",
       "                       random_state=None, splitter='best')"
      ]
     },
     "execution_count": 53,
     "metadata": {},
     "output_type": "execute_result"
    }
   ],
   "source": [
    "model2.fit(X_train,y_train)"
   ]
  },
  {
   "cell_type": "code",
   "execution_count": 54,
   "metadata": {},
   "outputs": [],
   "source": [
    "y_predict = pd.Series(np.int64(model2.predict(X_test)),index=y_test.index,name='Accident_Severity_Predicted')"
   ]
  },
  {
   "cell_type": "code",
   "execution_count": 55,
   "metadata": {},
   "outputs": [],
   "source": [
    "Y = pd.concat((y_predict,y_test),axis=1)"
   ]
  },
  {
   "cell_type": "code",
   "execution_count": 56,
   "metadata": {},
   "outputs": [],
   "source": [
    "y_right_predicted =  Y['Accident_Severity_Predicted'][Y['Accident_Severity_Predicted']==Y['Accident_Severity']].value_counts()"
   ]
  },
  {
   "cell_type": "code",
   "execution_count": 57,
   "metadata": {},
   "outputs": [],
   "source": [
    "y_real_values = y_test.value_counts()"
   ]
  },
  {
   "cell_type": "code",
   "execution_count": 58,
   "metadata": {},
   "outputs": [
    {
     "name": "stdout",
     "output_type": "stream",
     "text": [
      "Case 3 error prediction: 21.814025634745693\n",
      "Case 2 error prediction: 74.60815047021944\n",
      "Case 1 error prediction: 95.4653937947494\n"
     ]
    }
   ],
   "source": [
    "error = (np.abs(y_right_predicted[3]-y_real_values[3])/y_real_values[3])*100\n",
    "print('Case 3 error prediction:',error)\n",
    "error = (np.abs(y_right_predicted[2]-y_real_values[2])/y_real_values[2])*100\n",
    "print('Case 2 error prediction:',error)\n",
    "error = (np.abs(y_right_predicted[1]-y_real_values[1])/y_real_values[1])*100\n",
    "print('Case 1 error prediction:',error)\n"
   ]
  }
 ],
 "metadata": {
  "kernelspec": {
   "display_name": "Python 3",
   "language": "python",
   "name": "python3"
  },
  "language_info": {
   "codemirror_mode": {
    "name": "ipython",
    "version": 3
   },
   "file_extension": ".py",
   "mimetype": "text/x-python",
   "name": "python",
   "nbconvert_exporter": "python",
   "pygments_lexer": "ipython3",
   "version": "3.7.3"
  }
 },
 "nbformat": 4,
 "nbformat_minor": 2
}
